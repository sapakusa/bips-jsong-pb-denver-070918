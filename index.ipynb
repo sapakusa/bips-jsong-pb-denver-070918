{
 "cells": [
  {
   "cell_type": "markdown",
   "metadata": {},
   "source": [
    "# Block Version\n",
    "\n",
    "Version in normal software refers to a particular state. That is, a particular version reflects a particular set of features. For a block, this is similar, in the sense that the version field reflects what capabilities the software that produced the block is ready for. In the past this was used as a way to indicate a single feature that was ready. Version 2 meant that the software was ready for BIP0016, or pay-to-script-hash as described previously.\n",
    "\n",
    "Unfortunately, this means that only one feature may be signaled on the network at a time. To alleviate this, the developers came up with BIP9, which allows up to 29 different features to be signaled at the same time. The way this works is discussed later."
   ]
  },
  {
   "cell_type": "markdown",
   "metadata": {},
   "source": [
    "### Try it"
   ]
  },
  {
   "cell_type": "code",
   "execution_count": 1,
   "metadata": {},
   "outputs": [
    {
     "name": "stdout",
     "output_type": "stream",
     "text": [
      "BIP9: True\n",
      "BIP91: False\n",
      "BIP141: True\n"
     ]
    }
   ],
   "source": [
    "# Version Signaling Example\n",
    "\n",
    "from io import BytesIO\n",
    "from block import Block\n",
    "\n",
    "hex_block = '020000208ec39428b17323fa0ddec8e887b4a7c53b8c0a0a220cfd0000000000000000005b0750fce0a889502d40508d39576821155e9c9e3f5c3157f961db38fd8b25be1e77a759e93c0118a4ffd71d'\n",
    "\n",
    "# bytes.fromhex to get the binary block\n",
    "block = bytes.fromhex(hex_block)\n",
    "# create a stream using BytesIO\n",
    "s = BytesIO(block)\n",
    "# parse the block\n",
    "b = Block.parse(s)\n",
    "# get the version\n",
    "version = b.version\n",
    "# rightshift 29 (version >> 29) and see if it's equal to 0b001 for BIP9\n",
    "print('BIP9: {}'.format(version >> 29 == 0b001))\n",
    "# see if bit 4 (version >> 4) from the right is set ( & 1) for BIP91\n",
    "print('BIP91: {}'.format(version >> 4 & 1 == 1))\n",
    "# see if bit 1 (version >> 1) from the right is set ( & 1) for BIP141\n",
    "print('BIP141: {}'.format(version >> 1 & 1 == 1))"
   ]
  },
  {
   "cell_type": "markdown",
   "metadata": {},
   "source": [
    "### Signalling BIP Readiness\n",
    "\n",
    "Signalling simply means the miner of a block has set a bit in the version field to say that they support something. BIP 8 and 9 discuss this, it allows the miners to let the network know they are ready for the change or not. The version field of a block is 32 bits long, and if the top 3 bits are set to '001', 29 bits are free to be used for signalling.\n",
    "\n",
    "After a certain start time defined for a particular proposal, miners can set the bit specified to signal their support. It is during this time that if at least a certain percentage of blocks are mined with the bit set in one difficulty retarget period (2016 blocks), specified as the threshold needed, that proposal becomes LOCKED_IN. Once it is locked in, it is ready to become active in the network. Locked in just means that it gained enough support to proceed.\n",
    "\n",
    "This can all be found in [BIP 9](https://github.com/bitcoin/bips/blob/master/bip-0009.mediawiki). \n",
    "\n",
    "[[Source](https://bitcoin.stackexchange.com/a/56928)]"
   ]
  },
  {
   "cell_type": "code",
   "execution_count": null,
   "metadata": {},
   "outputs": [],
   "source": [
    "from io import BytesIO\n",
    "from block import Block\n",
    "\n",
    "class Block(Block):\n",
    "\n",
    "    def bip9(self):\n",
    "        '''Returns whether this block is signaling readiness for BIP9'''\n",
    "        # BIP9 is signalled if the top 3 bits are 001\n",
    "        # remember version is 32 bytes so right shift 29 (>> 29) and see if\n",
    "        # that is 001\n",
    "        return self.version >> 29 == 0b001\n",
    "\n",
    "    def bip91(self):\n",
    "        '''Returns whether this block is signaling readiness for BIP91'''\n",
    "        # BIP91 is signalled if the 5th bit from the right is 1\n",
    "        # shift 4 bits to the right and see if the last bit is 1\n",
    "        return self.version >> 4 & 1 == 1\n",
    "\n",
    "    def bip141(self):\n",
    "        '''Returns whether this block is signaling readiness for BIP141'''\n",
    "        # BIP91 is signalled if the 2nd bit from the right is 1\n",
    "        # shift 1 bit to the right and see if the last bit is 1\n",
    "        pass"
   ]
  }
 ],
 "metadata": {
  "kernelspec": {
   "display_name": "Python 3",
   "language": "python",
   "name": "python3"
  },
  "language_info": {
   "codemirror_mode": {
    "name": "ipython",
    "version": 3
   },
   "file_extension": ".py",
   "mimetype": "text/x-python",
   "name": "python",
   "nbconvert_exporter": "python",
   "pygments_lexer": "ipython3",
   "version": "3.6.4"
  }
 },
 "nbformat": 4,
 "nbformat_minor": 2
}
